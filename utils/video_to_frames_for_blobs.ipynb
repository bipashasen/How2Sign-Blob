{
 "cells": [
  {
   "cell_type": "code",
   "execution_count": 1,
   "id": "40d68369",
   "metadata": {},
   "outputs": [
    {
     "name": "stdout",
     "output_type": "stream",
     "text": [
      "['.ipynb_checkpoints', 'test-set-rhands-images', 'train-set-rhands-images', 'video_to_frames_for_blobs.ipynb', 'test', 'val-set-rhands-images', 'Labels', 'train', 'val', 'process_data_for_pixelsnail.ipynb']\n"
     ]
    }
   ],
   "source": [
    "import os\n",
    "import numpy as np\n",
    "\n",
    "import glob\n",
    "\n",
    "import cv2\n",
    "\n",
    "from tqdm import tqdm\n",
    "\n",
    "import matplotlib\n",
    "\n",
    "print(os.listdir('.'))"
   ]
  },
  {
   "cell_type": "code",
   "execution_count": 2,
   "id": "256a3383",
   "metadata": {},
   "outputs": [
    {
     "name": "stdout",
     "output_type": "stream",
     "text": [
      "5ujm3ZXVd-o_5-5-rgb_front_left_.avi\n",
      "1GlHmFJA0LQ_12-8-rgb_front_left_.avi\n",
      "477ZE29Y6eU_6-8-rgb_front_right_.avi\n",
      "2KGzerm1dT0_2-5-rgb_front_right_.avi\n",
      "ls: write error: Broken pipe\n",
      "11pWSXWId2A_0-8-rgb_front.txt\n",
      "aCOz5Zi3K1s_3-3-rgb_front.txt\n",
      "aPlDljTG2Bo_1-1-rgb_front.txt\n",
      "04hnjLKHh2g_5-5-rgb_front.txt\n",
      "ls: write error: Broken pipe\n",
      "ewUqUklARsA_3-2-rgb_front_right_199.jpg\n",
      "BOAuIAm-p_A_29-8-rgb_front_right_77.jpg\n",
      "eYwnPtrnsWw_8-8-rgb_front_right_77.jpg\n",
      "CerG8JKzDIE_9-8-rgb_front_right_149.jpg\n",
      "ls: write error: Broken pipe\n"
     ]
    }
   ],
   "source": [
    "!ls train/videos -U | head -4\n",
    "!ls train/transcripts -U | head -4\n",
    "!ls train-set-rhands-images -U | head -4"
   ]
  },
  {
   "cell_type": "code",
   "execution_count": 22,
   "id": "9258f7fd",
   "metadata": {},
   "outputs": [
    {
     "name": "stdout",
     "output_type": "stream",
     "text": [
      "Obtained 2342 videos along with 2342 transcripts\n",
      "[0, 1, 2, 3, 4, 5, 6, 7, 8, 9, 10, 11, 12, 13, 14, 15, 16, 17, 18, 19, 20, 21, 22, 23, 24, 25, 26, 27, 28, 29, 30, 31, 32, 33, 34, 35, 36, 37, 38, 39, 40, 41, 42, 43, 44, 45, 46, 47, 48, 49, 50, 51, 52, 53, 54, 55, 56, 57, 58, 59, 60, 61, 62, 63, 64, 65, 66, 67, 68, 69, 70, 71, 72, 73, 74, 75, 76, 77, 78, 79, 80, 81, 82, 83, 84, 85, 86, 87, 88, 89, 90, 91, 92, 93, 94, 95, 96, 97, 98, 99, 100, 101, 102, 103, 104, 105, 106, 107, 108, 109, 110, 111, 112, 113, 114, 115, 116, 117, 118, 119, 120, 121, 122, 123, 124, 125, 126, 127, 128, 129, 130, 131, 132, 133, 134, 135, 136, 137, 138, 139, 140, 141, 142, 143, 144, 145, 146, 147, 148, 149]\n"
     ]
    }
   ],
   "source": [
    "mode = 'test'\n",
    "out_type = 'face'\n",
    "out_pattern = 'face'\n",
    "\n",
    "out_dir = f'{mode}-set-{out_type}-images'\n",
    "\n",
    "os.makedirs(out_dir, exist_ok=True)\n",
    "\n",
    "def get_transcript_from_video(x):\n",
    "    return x.replace(f'_{out_pattern}_.avi', '.txt').replace('/videos/', '/transcripts/')\n",
    "\n",
    "data = glob.glob(f'{mode}/videos/*_{out_pattern}_.avi')\n",
    "transcripts = glob.glob(f'{mode}/transcripts/*.txt')\n",
    "\n",
    "data = [x for x in data if os.path.exists(get_transcript_from_video(x))]\n",
    "\n",
    "print(f'Obtained {len(data)} videos along with {len(transcripts)} transcripts')\n",
    "\n",
    "with open(transcripts[0]) as r:\n",
    "    t = list(map(int, r.read().splitlines()[1].split(',')))\n",
    "    \n",
    "print(t)"
   ]
  },
  {
   "cell_type": "code",
   "execution_count": 23,
   "id": "5d4a16e4",
   "metadata": {},
   "outputs": [
    {
     "name": "stdout",
     "output_type": "stream",
     "text": [
      "test/videos/G06Irzcwxiw_4-1-rgb_front_face_.avi\n",
      "test-set-face-images\n"
     ]
    }
   ],
   "source": [
    "print(data[0])\n",
    "print(out_dir)"
   ]
  },
  {
   "cell_type": "code",
   "execution_count": 24,
   "id": "77353a2e",
   "metadata": {
    "scrolled": false
   },
   "outputs": [
    {
     "name": "stderr",
     "output_type": "stream",
     "text": [
      "100%|█████████████████████████████████████████████████████████████████████████████████████████████████████████████████████████████████████████| 2342/2342 [02:32<00:00, 15.35it/s]\n"
     ]
    }
   ],
   "source": [
    "for video in tqdm(data):\n",
    "    def isempty(x):\n",
    "        return x.isspace() or x==''\n",
    "    \n",
    "    vidcap = cv2.VideoCapture(video)\n",
    "    \n",
    "    with open(get_transcript_from_video(video)) as r:\n",
    "        indices = r.read().splitlines()[1].split(',')\n",
    "        indices = [x for x in indices if not isempty(x)]\n",
    "        t = list(map(int, indices))\n",
    "    \n",
    "    success, image = vidcap.read()\n",
    "    count = 0\n",
    "    \n",
    "    while success:\n",
    "        saveas = video.replace('.avi', f'{t[count]}.jpg').replace(f'{mode}/videos', out_dir)\n",
    "        count += 1\n",
    "        \n",
    "#         image = cv2.cvtColor(image, cv2.COLOR_RGB2BGR)\n",
    "        \n",
    "        cv2.imwrite(saveas, image)\n",
    "    \n",
    "        success, image = vidcap.read()\n",
    "        \n",
    "#         os.system(f'cp {saveas} /home2/bipasha31/python_scripts/CurrentWork/SLP/temp')"
   ]
  },
  {
   "cell_type": "code",
   "execution_count": 66,
   "id": "c5bfa7cd",
   "metadata": {},
   "outputs": [
    {
     "data": {
      "text/plain": [
       "'train-set-rhands-images/477ZE29Y6eU_6-8-rgb_front_right_378.jpg'"
      ]
     },
     "execution_count": 66,
     "metadata": {},
     "output_type": "execute_result"
    }
   ],
   "source": [
    "saveas"
   ]
  },
  {
   "cell_type": "code",
   "execution_count": 63,
   "id": "1dee62ca",
   "metadata": {},
   "outputs": [
    {
     "name": "stdout",
     "output_type": "stream",
     "text": [
      "CerG8JKzDIE_9-8-rgb_front_right_149.jpg\n"
     ]
    }
   ],
   "source": [
    "path = '/scratch/bipasha31/How2Sign-Keypoints/train-set-rhands-images'\n",
    "\n",
    "print(os.listdir(path)[1])\n",
    "\n",
    "!cp /scratch/bipasha31/How2Sign-Keypoints/train-set-rhands-images/eYwnPtrnsWw_8-8-rgb_front_right_77.jpg /home2/bipasha31/python_scripts/CurrentWork/SLP/temp\n",
    "!cp /scratch/bipasha31/How2Sign-Keypoints/train-set-rhands-images/CerG8JKzDIE_9-8-rgb_front_right_149.jpg /home2/bipasha31/python_scripts/CurrentWork/SLP/temp"
   ]
  },
  {
   "cell_type": "code",
   "execution_count": 85,
   "id": "4f79567e",
   "metadata": {},
   "outputs": [],
   "source": [
    "# cp /home2/bipasha31/python_scripts/CurrentWork/SLP/utils/process_data_for_pixelsnail.ipynb .\n",
    "!cp video_to_frames_for_blobs.ipynb /home2/bipasha31/python_scripts/CurrentWork/SLP/utils"
   ]
  }
 ],
 "metadata": {
  "kernelspec": {
   "display_name": "torch",
   "language": "python",
   "name": "torch"
  },
  "language_info": {
   "codemirror_mode": {
    "name": "ipython",
    "version": 3
   },
   "file_extension": ".py",
   "mimetype": "text/x-python",
   "name": "python",
   "nbconvert_exporter": "python",
   "pygments_lexer": "ipython3",
   "version": "3.8.11"
  }
 },
 "nbformat": 4,
 "nbformat_minor": 5
}
