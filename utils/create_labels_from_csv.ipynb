{
 "cells": [
  {
   "cell_type": "code",
   "execution_count": 16,
   "id": "ea5fe74e",
   "metadata": {},
   "outputs": [
    {
     "data": {
      "text/plain": [
       "['how2sign_train.csv',\n",
       " 'train.txt',\n",
       " 'common.txt',\n",
       " 'all.txt',\n",
       " 'how2sign_val.csv',\n",
       " '.ipynb_checkpoints',\n",
       " 'how2sign_realigned_train.csv',\n",
       " '.how2sign_realigned_train.csv.swp',\n",
       " 'how2sign_realigned_test.csv',\n",
       " 'test.txt',\n",
       " 'how2sign_realigned_val.csv',\n",
       " 'create_labels_from_csv.ipynb',\n",
       " 'val.txt',\n",
       " 'how2sign_test.csv']"
      ]
     },
     "execution_count": 16,
     "metadata": {},
     "output_type": "execute_result"
    }
   ],
   "source": [
    "import glob\n",
    "import os\n",
    "import re\n",
    "import json\n",
    "import numpy as np\n",
    "\n",
    "os.listdir('.')"
   ]
  },
  {
   "cell_type": "code",
   "execution_count": 26,
   "id": "7ebfcc70",
   "metadata": {
    "scrolled": false
   },
   "outputs": [
    {
     "name": "stdout",
     "output_type": "stream",
     "text": [
      "Examples: q, voyage, eyes, granular, advance, just\n",
      "No. of tokens: train: 15364, test: 3664, val: 3208\n",
      "\n",
      "No. of tokens when everything is merged: 16212\n",
      "Common tokens: 1670\n",
      "Additional tokens outside of train: 848 (5.52%)\n",
      "\n",
      "Wrote train to train.txt\n",
      "Wrote test to test.txt\n",
      "Wrote val to val.txt\n",
      "Wrote all to all.txt\n",
      "Wrote common to common.txt\n"
     ]
    }
   ],
   "source": [
    "def extract_data(path):\n",
    "    def isempty(x):\n",
    "        return x.isspace() or x ==\"\"\n",
    "    content = open(path).read().splitlines()\n",
    "    \n",
    "    content = [x.split('\\t')[-1] for x in content[1:]]\n",
    "    content = [x.replace('-', ' ') for x in content]\n",
    "    content = [re.sub('[^a-zA-Z\\d\\s]', '', x) for x in content]\n",
    "    \n",
    "    content = [[y.lower() for y in x.split(' ') if not isempty(y)] for x in content]\n",
    "    sizes = [len(x) for x in content]\n",
    "    content = [x for y in content for x in y]\n",
    "    \n",
    "    return list(set(content)), sizes\n",
    "    \n",
    "train, train_sizes = extract_data('how2sign_train.csv')\n",
    "test, test_sizes = extract_data('how2sign_test.csv')\n",
    "val, val_sizes = extract_data('how2sign_val.csv')\n",
    "\n",
    "print(f'Examples: {train[0]}, {train[1]}, {test[3]}, {test[5]}, {val[60]}, {val[100]}')\n",
    "print(f'No. of tokens: train: {len(train)}, test: {len(test)}, val: {len(val)}')\n",
    "\n",
    "common_tokens = list(set(train).intersection(set(test).intersection(val)))\n",
    "all_tokens = list(set(train + val + test))\n",
    "new_test_tokens = len(all_tokens) - len(train)\n",
    "\n",
    "print()\n",
    "print(f'No. of tokens when everything is merged: {len(all_tokens)}')\n",
    "print(f'Common tokens: {len(common_tokens)}')\n",
    "print(f'Additional tokens outside of train: {new_test_tokens} ({round(new_test_tokens/len(train) * 100, 2)}%)')\n",
    "print()\n",
    "\n",
    "data = {'train': train, 'test': test, 'val': val, 'all': all_tokens, 'common': common_tokens}\n",
    "for key in data:\n",
    "    with open(f'{key}.txt', 'w') as w:\n",
    "        json.dump(data[key], w)\n",
    "        print(f'Wrote {key} to {key}.txt')"
   ]
  },
  {
   "cell_type": "code",
   "execution_count": 62,
   "id": "cdf918e5",
   "metadata": {},
   "outputs": [],
   "source": [
    "!cp create_labels_from_csv.ipynb /home2/bipasha31/python_scripts/CurrentWork/SLP/utils"
   ]
  },
  {
   "cell_type": "code",
   "execution_count": 60,
   "id": "cd2158ae",
   "metadata": {},
   "outputs": [
    {
     "name": "stdout",
     "output_type": "stream",
     "text": [
      "content: [342 530 327 ... 150 159 251], shape: (31165,), min:3.00, max:2418.00, mean: 170.91\n",
      "content: [ 10 247 239 ... 260 536 203], shape: (2357,), min:4.00, max:1118.00, mean: 173.00\n",
      "content: [235  41 214 ... 101 120 213], shape: (1741,), min:3.00, max:1596.00, mean: 169.54\n",
      "\n",
      "sizes: [20 39 24 ... 12 13 25], shape: (31165,), min: 1.00, max:195.00, mean: 17.69, std: 12.65\n",
      "\n",
      "Valid rows below 10 words: 8690 (27.88%)\n",
      "content: [199  14  47 ...  35  54  53], shape: (8690,), min: 3.00, max: 1087.00, mean: 59.67\n",
      "\n",
      "Valid rows below 256 frames: 25073 (80.45%)\n",
      "content: [15  9 14 ... 12 13 25], shape: (25073,), min: 1.00, max: 47.00, mean: 13.35\n"
     ]
    }
   ],
   "source": [
    "def extract_timestamps(path):\n",
    "    def get_ts(x, idx):\n",
    "        return float(x.split('\\t')[-idx])\n",
    "        \n",
    "    content = open(path).read().splitlines()\n",
    "    \n",
    "    fps = 30\n",
    "    \n",
    "    content = np.array([int((get_ts(x, 2) - get_ts(x, 3))*fps) for x in content[1:]])\n",
    "    print(f'content: {content}, shape: {content.shape}, min:{content.min():.2f}, max:{content.max():.2f}, mean: {content.mean():.2f}')\n",
    "    \n",
    "    return content\n",
    "\n",
    "train = extract_timestamps('how2sign_train.csv')\n",
    "test = extract_timestamps('how2sign_test.csv')\n",
    "val = extract_timestamps('how2sign_val.csv')\n",
    "\n",
    "print()\n",
    "sizes = np.array(train_sizes)\n",
    "print(f'sizes: {sizes}, shape: {sizes.shape}, min: {sizes.min():.2f}, max:{sizes.max():.2f}, mean: {sizes.mean():.2f}, std: {sizes.std():.2f}')\n",
    "\n",
    "print()\n",
    "bound = 10\n",
    "valid_num = (sizes < bound).sum()\n",
    "print(f'Valid rows below {bound} words: {valid_num} ({round((valid_num/len(sizes))*100, 2)}%)')\n",
    "bounded_train = train[sizes<bound]\n",
    "print(f'content: {bounded_train}, shape: {bounded_train.shape}, min: {bounded_train.min():.2f}, max: {bounded_train.max():.2f}, mean: {bounded_train.mean():.2f}')\n",
    "\n",
    "print()\n",
    "bound = 256\n",
    "valid_num = (train < bound).sum()\n",
    "print(f'Valid rows below {bound} frames: {valid_num} ({round((valid_num/len(train))*100, 2)}%)')\n",
    "bounded_sizes = sizes[train<bound]\n",
    "print(f'content: {bounded_sizes}, shape: {bounded_sizes.shape}, min: {bounded_sizes.min():.2f}, max: {bounded_sizes.max():.2f}, mean: {bounded_sizes.mean():.2f}')\n"
   ]
  },
  {
   "cell_type": "code",
   "execution_count": 87,
   "id": "a7d4a091",
   "metadata": {},
   "outputs": [
    {
     "name": "stdout",
     "output_type": "stream",
     "text": [
      "1: 0\n",
      "2: 0\n",
      "3: 1\n",
      "4: 1\n",
      "5: 2\n",
      "6: 3\n",
      "7: 4\n",
      "8: 4\n",
      "9: 4\n",
      "10: 5\n",
      "11: 5\n",
      "12: 6\n",
      "13: 6\n",
      "14: 6\n",
      "15: 7\n"
     ]
    }
   ],
   "source": [
    "a = np.array([2, 3, 5, 6, 7, 10, 12, 15])\n",
    "\n",
    "b = {}\n",
    "min, max = a.min(), a.max()\n",
    "p = -1\n",
    "for i in range(max):\n",
    "    if i+1 in a:\n",
    "        p += 1\n",
    "    b[i+1] = 0 if p == -1 else p\n",
    "\n",
    "for key in sorted(b.keys()):\n",
    "    print(f'{key}: {b[key]}')"
   ]
  }
 ],
 "metadata": {
  "kernelspec": {
   "display_name": "torch",
   "language": "python",
   "name": "torch"
  },
  "language_info": {
   "codemirror_mode": {
    "name": "ipython",
    "version": 3
   },
   "file_extension": ".py",
   "mimetype": "text/x-python",
   "name": "python",
   "nbconvert_exporter": "python",
   "pygments_lexer": "ipython3",
   "version": "3.8.11"
  }
 },
 "nbformat": 4,
 "nbformat_minor": 5
}
